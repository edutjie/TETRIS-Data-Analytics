{
 "cells": [
  {
   "cell_type": "markdown",
   "metadata": {},
   "source": [
    "# Pandemi Bikin Angka Pekerja Anak di Indonesia Naik!"
   ]
  },
  {
   "cell_type": "markdown",
   "metadata": {},
   "source": [
    "## Importing Libraries"
   ]
  },
  {
   "cell_type": "code",
   "execution_count": 32,
   "metadata": {},
   "outputs": [],
   "source": [
    "import pandas as pd\n",
    "import numpy as np\n",
    "import matplotlib.pyplot as plt\n",
    "import seaborn as sns\n",
    "%matplotlib inline\n",
    "\n",
    "plt.style.use('seaborn')"
   ]
  },
  {
   "cell_type": "markdown",
   "metadata": {},
   "source": [
    "## EDA"
   ]
  },
  {
   "cell_type": "markdown",
   "metadata": {},
   "source": [
    "### Persentase anak usia 10-17 tahun yang bekerja menurut provinsi"
   ]
  },
  {
   "cell_type": "code",
   "execution_count": 40,
   "metadata": {},
   "outputs": [
    {
     "data": {
      "text/html": [
       "<div>\n",
       "<style scoped>\n",
       "    .dataframe tbody tr th:only-of-type {\n",
       "        vertical-align: middle;\n",
       "    }\n",
       "\n",
       "    .dataframe tbody tr th {\n",
       "        vertical-align: top;\n",
       "    }\n",
       "\n",
       "    .dataframe thead th {\n",
       "        text-align: right;\n",
       "    }\n",
       "</style>\n",
       "<table border=\"1\" class=\"dataframe\">\n",
       "  <thead>\n",
       "    <tr style=\"text-align: right;\">\n",
       "      <th></th>\n",
       "      <th>Provinsi</th>\n",
       "      <th>Persentase anak usia 10-17 tahun yang bekerja menurut provinsi (Persen)</th>\n",
       "      <th>Unnamed: 2</th>\n",
       "      <th>Unnamed: 3</th>\n",
       "      <th>Unnamed: 4</th>\n",
       "    </tr>\n",
       "  </thead>\n",
       "  <tbody>\n",
       "    <tr>\n",
       "      <th>0</th>\n",
       "      <td>NaN</td>\n",
       "      <td>2019.00</td>\n",
       "      <td>2020.00</td>\n",
       "      <td>2021.00</td>\n",
       "      <td>2018.00</td>\n",
       "    </tr>\n",
       "    <tr>\n",
       "      <th>1</th>\n",
       "      <td>ACEH</td>\n",
       "      <td>1.18</td>\n",
       "      <td>1.98</td>\n",
       "      <td>1.39</td>\n",
       "      <td>1.68</td>\n",
       "    </tr>\n",
       "    <tr>\n",
       "      <th>2</th>\n",
       "      <td>SUMATERA UTARA</td>\n",
       "      <td>4.01</td>\n",
       "      <td>6.39</td>\n",
       "      <td>4.83</td>\n",
       "      <td>4.29</td>\n",
       "    </tr>\n",
       "    <tr>\n",
       "      <th>3</th>\n",
       "      <td>SUMATERA BARAT</td>\n",
       "      <td>2.46</td>\n",
       "      <td>4.29</td>\n",
       "      <td>2.64</td>\n",
       "      <td>2.51</td>\n",
       "    </tr>\n",
       "    <tr>\n",
       "      <th>4</th>\n",
       "      <td>RIAU</td>\n",
       "      <td>2.21</td>\n",
       "      <td>3.37</td>\n",
       "      <td>2.87</td>\n",
       "      <td>1.92</td>\n",
       "    </tr>\n",
       "  </tbody>\n",
       "</table>\n",
       "</div>"
      ],
      "text/plain": [
       "         Provinsi  \\\n",
       "0             NaN   \n",
       "1            ACEH   \n",
       "2  SUMATERA UTARA   \n",
       "3  SUMATERA BARAT   \n",
       "4            RIAU   \n",
       "\n",
       "   Persentase anak usia 10-17 tahun yang bekerja menurut provinsi (Persen)  \\\n",
       "0                                            2019.00                         \n",
       "1                                               1.18                         \n",
       "2                                               4.01                         \n",
       "3                                               2.46                         \n",
       "4                                               2.21                         \n",
       "\n",
       "   Unnamed: 2  Unnamed: 3  Unnamed: 4  \n",
       "0     2020.00     2021.00     2018.00  \n",
       "1        1.98        1.39        1.68  \n",
       "2        6.39        4.83        4.29  \n",
       "3        4.29        2.64        2.51  \n",
       "4        3.37        2.87        1.92  "
      ]
     },
     "execution_count": 40,
     "metadata": {},
     "output_type": "execute_result"
    }
   ],
   "source": [
    "pers_anak_kerja = pd.read_excel('data/child_labor/Persentase anak usia 10-17 tahun yang bekerja menurut provinsi.xlsx')\n",
    "pers_anak_kerja.head()"
   ]
  },
  {
   "cell_type": "code",
   "execution_count": 41,
   "metadata": {},
   "outputs": [
    {
     "data": {
      "text/html": [
       "<div>\n",
       "<style scoped>\n",
       "    .dataframe tbody tr th:only-of-type {\n",
       "        vertical-align: middle;\n",
       "    }\n",
       "\n",
       "    .dataframe tbody tr th {\n",
       "        vertical-align: top;\n",
       "    }\n",
       "\n",
       "    .dataframe thead th {\n",
       "        text-align: right;\n",
       "    }\n",
       "</style>\n",
       "<table border=\"1\" class=\"dataframe\">\n",
       "  <thead>\n",
       "    <tr style=\"text-align: right;\">\n",
       "      <th></th>\n",
       "      <th>provinsi</th>\n",
       "      <th>2019.0</th>\n",
       "      <th>2020.0</th>\n",
       "      <th>2021.0</th>\n",
       "      <th>2018.0</th>\n",
       "    </tr>\n",
       "  </thead>\n",
       "  <tbody>\n",
       "    <tr>\n",
       "      <th>1</th>\n",
       "      <td>ACEH</td>\n",
       "      <td>1.18</td>\n",
       "      <td>1.98</td>\n",
       "      <td>1.39</td>\n",
       "      <td>1.68</td>\n",
       "    </tr>\n",
       "    <tr>\n",
       "      <th>2</th>\n",
       "      <td>SUMATERA UTARA</td>\n",
       "      <td>4.01</td>\n",
       "      <td>6.39</td>\n",
       "      <td>4.83</td>\n",
       "      <td>4.29</td>\n",
       "    </tr>\n",
       "    <tr>\n",
       "      <th>3</th>\n",
       "      <td>SUMATERA BARAT</td>\n",
       "      <td>2.46</td>\n",
       "      <td>4.29</td>\n",
       "      <td>2.64</td>\n",
       "      <td>2.51</td>\n",
       "    </tr>\n",
       "    <tr>\n",
       "      <th>4</th>\n",
       "      <td>RIAU</td>\n",
       "      <td>2.21</td>\n",
       "      <td>3.37</td>\n",
       "      <td>2.87</td>\n",
       "      <td>1.92</td>\n",
       "    </tr>\n",
       "    <tr>\n",
       "      <th>5</th>\n",
       "      <td>JAMBI</td>\n",
       "      <td>2.06</td>\n",
       "      <td>2.43</td>\n",
       "      <td>1.86</td>\n",
       "      <td>2.88</td>\n",
       "    </tr>\n",
       "  </tbody>\n",
       "</table>\n",
       "</div>"
      ],
      "text/plain": [
       "0        provinsi  2019.0  2020.0  2021.0  2018.0\n",
       "1            ACEH    1.18    1.98    1.39    1.68\n",
       "2  SUMATERA UTARA    4.01    6.39    4.83    4.29\n",
       "3  SUMATERA BARAT    2.46    4.29    2.64    2.51\n",
       "4            RIAU    2.21    3.37    2.87    1.92\n",
       "5           JAMBI    2.06    2.43    1.86    2.88"
      ]
     },
     "execution_count": 41,
     "metadata": {},
     "output_type": "execute_result"
    }
   ],
   "source": [
    "pers_anak_kerja.loc[0, 'Provinsi'] = 'provinsi'\n",
    "pers_anak_kerja.columns = pers_anak_kerja.iloc[0, :]\n",
    "pers_anak_kerja.drop(0, axis=0, inplace=True)\n",
    "pers_anak_kerja.head()"
   ]
  },
  {
   "cell_type": "code",
   "execution_count": 42,
   "metadata": {},
   "outputs": [
    {
     "data": {
      "text/html": [
       "<div>\n",
       "<style scoped>\n",
       "    .dataframe tbody tr th:only-of-type {\n",
       "        vertical-align: middle;\n",
       "    }\n",
       "\n",
       "    .dataframe tbody tr th {\n",
       "        vertical-align: top;\n",
       "    }\n",
       "\n",
       "    .dataframe thead th {\n",
       "        text-align: right;\n",
       "    }\n",
       "</style>\n",
       "<table border=\"1\" class=\"dataframe\">\n",
       "  <thead>\n",
       "    <tr style=\"text-align: right;\">\n",
       "      <th></th>\n",
       "      <th>2019-01-01</th>\n",
       "      <th>2020-01-01</th>\n",
       "      <th>2021-01-01</th>\n",
       "      <th>2018-01-01</th>\n",
       "    </tr>\n",
       "    <tr>\n",
       "      <th>provinsi</th>\n",
       "      <th></th>\n",
       "      <th></th>\n",
       "      <th></th>\n",
       "      <th></th>\n",
       "    </tr>\n",
       "  </thead>\n",
       "  <tbody>\n",
       "    <tr>\n",
       "      <th>ACEH</th>\n",
       "      <td>1.18</td>\n",
       "      <td>1.98</td>\n",
       "      <td>1.39</td>\n",
       "      <td>1.68</td>\n",
       "    </tr>\n",
       "    <tr>\n",
       "      <th>SUMATERA UTARA</th>\n",
       "      <td>4.01</td>\n",
       "      <td>6.39</td>\n",
       "      <td>4.83</td>\n",
       "      <td>4.29</td>\n",
       "    </tr>\n",
       "    <tr>\n",
       "      <th>SUMATERA BARAT</th>\n",
       "      <td>2.46</td>\n",
       "      <td>4.29</td>\n",
       "      <td>2.64</td>\n",
       "      <td>2.51</td>\n",
       "    </tr>\n",
       "    <tr>\n",
       "      <th>RIAU</th>\n",
       "      <td>2.21</td>\n",
       "      <td>3.37</td>\n",
       "      <td>2.87</td>\n",
       "      <td>1.92</td>\n",
       "    </tr>\n",
       "    <tr>\n",
       "      <th>JAMBI</th>\n",
       "      <td>2.06</td>\n",
       "      <td>2.43</td>\n",
       "      <td>1.86</td>\n",
       "      <td>2.88</td>\n",
       "    </tr>\n",
       "  </tbody>\n",
       "</table>\n",
       "</div>"
      ],
      "text/plain": [
       "0               2019-01-01  2020-01-01  2021-01-01  2018-01-01\n",
       "provinsi                                                      \n",
       "ACEH                  1.18        1.98        1.39        1.68\n",
       "SUMATERA UTARA        4.01        6.39        4.83        4.29\n",
       "SUMATERA BARAT        2.46        4.29        2.64        2.51\n",
       "RIAU                  2.21        3.37        2.87        1.92\n",
       "JAMBI                 2.06        2.43        1.86        2.88"
      ]
     },
     "execution_count": 42,
     "metadata": {},
     "output_type": "execute_result"
    }
   ],
   "source": [
    "pers_anak_kerja.set_index('provinsi', inplace=True)\n",
    "pers_anak_kerja.columns = pd.to_datetime(pers_anak_kerja.columns.astype(int).astype(str))\n",
    "pers_anak_kerja.head()"
   ]
  },
  {
   "cell_type": "code",
   "execution_count": 43,
   "metadata": {},
   "outputs": [
    {
     "data": {
      "text/html": [
       "<div>\n",
       "<style scoped>\n",
       "    .dataframe tbody tr th:only-of-type {\n",
       "        vertical-align: middle;\n",
       "    }\n",
       "\n",
       "    .dataframe tbody tr th {\n",
       "        vertical-align: top;\n",
       "    }\n",
       "\n",
       "    .dataframe thead th {\n",
       "        text-align: right;\n",
       "    }\n",
       "</style>\n",
       "<table border=\"1\" class=\"dataframe\">\n",
       "  <thead>\n",
       "    <tr style=\"text-align: right;\">\n",
       "      <th>provinsi</th>\n",
       "      <th>0</th>\n",
       "      <th>ACEH</th>\n",
       "      <th>SUMATERA UTARA</th>\n",
       "      <th>SUMATERA BARAT</th>\n",
       "      <th>RIAU</th>\n",
       "      <th>JAMBI</th>\n",
       "      <th>SUMATERA SELATAN</th>\n",
       "      <th>BENGKULU</th>\n",
       "      <th>LAMPUNG</th>\n",
       "      <th>KEP. BANGKA BELITUNG</th>\n",
       "      <th>...</th>\n",
       "      <th>SULAWESI TENGAH</th>\n",
       "      <th>SULAWESI SELATAN</th>\n",
       "      <th>SULAWESI TENGGARA</th>\n",
       "      <th>GORONTALO</th>\n",
       "      <th>SULAWESI BARAT</th>\n",
       "      <th>MALUKU</th>\n",
       "      <th>MALUKU UTARA</th>\n",
       "      <th>PAPUA BARAT</th>\n",
       "      <th>PAPUA</th>\n",
       "      <th>INDONESIA</th>\n",
       "    </tr>\n",
       "  </thead>\n",
       "  <tbody>\n",
       "    <tr>\n",
       "      <th>0</th>\n",
       "      <td>2019-01-01</td>\n",
       "      <td>1.18</td>\n",
       "      <td>4.01</td>\n",
       "      <td>2.46</td>\n",
       "      <td>2.21</td>\n",
       "      <td>2.06</td>\n",
       "      <td>2.27</td>\n",
       "      <td>1.99</td>\n",
       "      <td>2.20</td>\n",
       "      <td>2.41</td>\n",
       "      <td>...</td>\n",
       "      <td>4.04</td>\n",
       "      <td>4.90</td>\n",
       "      <td>5.26</td>\n",
       "      <td>4.57</td>\n",
       "      <td>3.46</td>\n",
       "      <td>3.04</td>\n",
       "      <td>3.51</td>\n",
       "      <td>2.30</td>\n",
       "      <td>3.17</td>\n",
       "      <td>2.35</td>\n",
       "    </tr>\n",
       "    <tr>\n",
       "      <th>1</th>\n",
       "      <td>2020-01-01</td>\n",
       "      <td>1.98</td>\n",
       "      <td>6.39</td>\n",
       "      <td>4.29</td>\n",
       "      <td>3.37</td>\n",
       "      <td>2.43</td>\n",
       "      <td>3.41</td>\n",
       "      <td>2.98</td>\n",
       "      <td>4.01</td>\n",
       "      <td>4.81</td>\n",
       "      <td>...</td>\n",
       "      <td>5.59</td>\n",
       "      <td>6.16</td>\n",
       "      <td>8.05</td>\n",
       "      <td>5.46</td>\n",
       "      <td>5.28</td>\n",
       "      <td>3.35</td>\n",
       "      <td>3.80</td>\n",
       "      <td>5.35</td>\n",
       "      <td>3.49</td>\n",
       "      <td>3.25</td>\n",
       "    </tr>\n",
       "    <tr>\n",
       "      <th>2</th>\n",
       "      <td>2021-01-01</td>\n",
       "      <td>1.39</td>\n",
       "      <td>4.83</td>\n",
       "      <td>2.64</td>\n",
       "      <td>2.87</td>\n",
       "      <td>1.86</td>\n",
       "      <td>2.76</td>\n",
       "      <td>1.94</td>\n",
       "      <td>3.56</td>\n",
       "      <td>3.30</td>\n",
       "      <td>...</td>\n",
       "      <td>5.12</td>\n",
       "      <td>5.33</td>\n",
       "      <td>6.46</td>\n",
       "      <td>4.28</td>\n",
       "      <td>5.50</td>\n",
       "      <td>2.49</td>\n",
       "      <td>2.12</td>\n",
       "      <td>3.81</td>\n",
       "      <td>3.25</td>\n",
       "      <td>2.63</td>\n",
       "    </tr>\n",
       "    <tr>\n",
       "      <th>3</th>\n",
       "      <td>2018-01-01</td>\n",
       "      <td>1.68</td>\n",
       "      <td>4.29</td>\n",
       "      <td>2.51</td>\n",
       "      <td>1.92</td>\n",
       "      <td>2.88</td>\n",
       "      <td>2.32</td>\n",
       "      <td>2.56</td>\n",
       "      <td>2.55</td>\n",
       "      <td>4.26</td>\n",
       "      <td>...</td>\n",
       "      <td>4.67</td>\n",
       "      <td>4.63</td>\n",
       "      <td>5.32</td>\n",
       "      <td>4.56</td>\n",
       "      <td>3.70</td>\n",
       "      <td>2.14</td>\n",
       "      <td>2.42</td>\n",
       "      <td>2.19</td>\n",
       "      <td>4.20</td>\n",
       "      <td>2.61</td>\n",
       "    </tr>\n",
       "  </tbody>\n",
       "</table>\n",
       "<p>4 rows × 36 columns</p>\n",
       "</div>"
      ],
      "text/plain": [
       "provinsi          0  ACEH  SUMATERA UTARA  SUMATERA BARAT  RIAU  JAMBI  \\\n",
       "0        2019-01-01  1.18            4.01            2.46  2.21   2.06   \n",
       "1        2020-01-01  1.98            6.39            4.29  3.37   2.43   \n",
       "2        2021-01-01  1.39            4.83            2.64  2.87   1.86   \n",
       "3        2018-01-01  1.68            4.29            2.51  1.92   2.88   \n",
       "\n",
       "provinsi  SUMATERA SELATAN  BENGKULU  LAMPUNG  KEP. BANGKA BELITUNG  ...  \\\n",
       "0                     2.27      1.99     2.20                  2.41  ...   \n",
       "1                     3.41      2.98     4.01                  4.81  ...   \n",
       "2                     2.76      1.94     3.56                  3.30  ...   \n",
       "3                     2.32      2.56     2.55                  4.26  ...   \n",
       "\n",
       "provinsi  SULAWESI TENGAH  SULAWESI SELATAN  SULAWESI TENGGARA  GORONTALO  \\\n",
       "0                    4.04              4.90               5.26       4.57   \n",
       "1                    5.59              6.16               8.05       5.46   \n",
       "2                    5.12              5.33               6.46       4.28   \n",
       "3                    4.67              4.63               5.32       4.56   \n",
       "\n",
       "provinsi  SULAWESI BARAT  MALUKU  MALUKU UTARA  PAPUA BARAT  PAPUA  INDONESIA  \n",
       "0                   3.46    3.04          3.51         2.30   3.17       2.35  \n",
       "1                   5.28    3.35          3.80         5.35   3.49       3.25  \n",
       "2                   5.50    2.49          2.12         3.81   3.25       2.63  \n",
       "3                   3.70    2.14          2.42         2.19   4.20       2.61  \n",
       "\n",
       "[4 rows x 36 columns]"
      ]
     },
     "execution_count": 43,
     "metadata": {},
     "output_type": "execute_result"
    }
   ],
   "source": [
    "pers_anak_kerja = pers_anak_kerja.T.reset_index()\n",
    "pers_anak_kerja.head()"
   ]
  },
  {
   "cell_type": "code",
   "execution_count": 45,
   "metadata": {},
   "outputs": [
    {
     "data": {
      "text/html": [
       "<div>\n",
       "<style scoped>\n",
       "    .dataframe tbody tr th:only-of-type {\n",
       "        vertical-align: middle;\n",
       "    }\n",
       "\n",
       "    .dataframe tbody tr th {\n",
       "        vertical-align: top;\n",
       "    }\n",
       "\n",
       "    .dataframe thead th {\n",
       "        text-align: right;\n",
       "    }\n",
       "</style>\n",
       "<table border=\"1\" class=\"dataframe\">\n",
       "  <thead>\n",
       "    <tr style=\"text-align: right;\">\n",
       "      <th>provinsi</th>\n",
       "      <th>ACEH</th>\n",
       "      <th>SUMATERA UTARA</th>\n",
       "      <th>SUMATERA BARAT</th>\n",
       "      <th>RIAU</th>\n",
       "      <th>JAMBI</th>\n",
       "      <th>SUMATERA SELATAN</th>\n",
       "      <th>BENGKULU</th>\n",
       "      <th>LAMPUNG</th>\n",
       "      <th>KEP. BANGKA BELITUNG</th>\n",
       "      <th>KEP. RIAU</th>\n",
       "      <th>...</th>\n",
       "      <th>SULAWESI TENGAH</th>\n",
       "      <th>SULAWESI SELATAN</th>\n",
       "      <th>SULAWESI TENGGARA</th>\n",
       "      <th>GORONTALO</th>\n",
       "      <th>SULAWESI BARAT</th>\n",
       "      <th>MALUKU</th>\n",
       "      <th>MALUKU UTARA</th>\n",
       "      <th>PAPUA BARAT</th>\n",
       "      <th>PAPUA</th>\n",
       "      <th>INDONESIA</th>\n",
       "    </tr>\n",
       "    <tr>\n",
       "      <th>tahun</th>\n",
       "      <th></th>\n",
       "      <th></th>\n",
       "      <th></th>\n",
       "      <th></th>\n",
       "      <th></th>\n",
       "      <th></th>\n",
       "      <th></th>\n",
       "      <th></th>\n",
       "      <th></th>\n",
       "      <th></th>\n",
       "      <th></th>\n",
       "      <th></th>\n",
       "      <th></th>\n",
       "      <th></th>\n",
       "      <th></th>\n",
       "      <th></th>\n",
       "      <th></th>\n",
       "      <th></th>\n",
       "      <th></th>\n",
       "      <th></th>\n",
       "      <th></th>\n",
       "    </tr>\n",
       "  </thead>\n",
       "  <tbody>\n",
       "    <tr>\n",
       "      <th>2018-01-01</th>\n",
       "      <td>1.68</td>\n",
       "      <td>4.29</td>\n",
       "      <td>2.51</td>\n",
       "      <td>1.92</td>\n",
       "      <td>2.88</td>\n",
       "      <td>2.32</td>\n",
       "      <td>2.56</td>\n",
       "      <td>2.55</td>\n",
       "      <td>4.26</td>\n",
       "      <td>1.09</td>\n",
       "      <td>...</td>\n",
       "      <td>4.67</td>\n",
       "      <td>4.63</td>\n",
       "      <td>5.32</td>\n",
       "      <td>4.56</td>\n",
       "      <td>3.70</td>\n",
       "      <td>2.14</td>\n",
       "      <td>2.42</td>\n",
       "      <td>2.19</td>\n",
       "      <td>4.20</td>\n",
       "      <td>2.61</td>\n",
       "    </tr>\n",
       "    <tr>\n",
       "      <th>2019-01-01</th>\n",
       "      <td>1.18</td>\n",
       "      <td>4.01</td>\n",
       "      <td>2.46</td>\n",
       "      <td>2.21</td>\n",
       "      <td>2.06</td>\n",
       "      <td>2.27</td>\n",
       "      <td>1.99</td>\n",
       "      <td>2.20</td>\n",
       "      <td>2.41</td>\n",
       "      <td>0.98</td>\n",
       "      <td>...</td>\n",
       "      <td>4.04</td>\n",
       "      <td>4.90</td>\n",
       "      <td>5.26</td>\n",
       "      <td>4.57</td>\n",
       "      <td>3.46</td>\n",
       "      <td>3.04</td>\n",
       "      <td>3.51</td>\n",
       "      <td>2.30</td>\n",
       "      <td>3.17</td>\n",
       "      <td>2.35</td>\n",
       "    </tr>\n",
       "    <tr>\n",
       "      <th>2020-01-01</th>\n",
       "      <td>1.98</td>\n",
       "      <td>6.39</td>\n",
       "      <td>4.29</td>\n",
       "      <td>3.37</td>\n",
       "      <td>2.43</td>\n",
       "      <td>3.41</td>\n",
       "      <td>2.98</td>\n",
       "      <td>4.01</td>\n",
       "      <td>4.81</td>\n",
       "      <td>1.19</td>\n",
       "      <td>...</td>\n",
       "      <td>5.59</td>\n",
       "      <td>6.16</td>\n",
       "      <td>8.05</td>\n",
       "      <td>5.46</td>\n",
       "      <td>5.28</td>\n",
       "      <td>3.35</td>\n",
       "      <td>3.80</td>\n",
       "      <td>5.35</td>\n",
       "      <td>3.49</td>\n",
       "      <td>3.25</td>\n",
       "    </tr>\n",
       "    <tr>\n",
       "      <th>2021-01-01</th>\n",
       "      <td>1.39</td>\n",
       "      <td>4.83</td>\n",
       "      <td>2.64</td>\n",
       "      <td>2.87</td>\n",
       "      <td>1.86</td>\n",
       "      <td>2.76</td>\n",
       "      <td>1.94</td>\n",
       "      <td>3.56</td>\n",
       "      <td>3.30</td>\n",
       "      <td>0.97</td>\n",
       "      <td>...</td>\n",
       "      <td>5.12</td>\n",
       "      <td>5.33</td>\n",
       "      <td>6.46</td>\n",
       "      <td>4.28</td>\n",
       "      <td>5.50</td>\n",
       "      <td>2.49</td>\n",
       "      <td>2.12</td>\n",
       "      <td>3.81</td>\n",
       "      <td>3.25</td>\n",
       "      <td>2.63</td>\n",
       "    </tr>\n",
       "  </tbody>\n",
       "</table>\n",
       "<p>4 rows × 35 columns</p>\n",
       "</div>"
      ],
      "text/plain": [
       "provinsi    ACEH  SUMATERA UTARA  SUMATERA BARAT  RIAU  JAMBI  \\\n",
       "tahun                                                           \n",
       "2018-01-01  1.68            4.29            2.51  1.92   2.88   \n",
       "2019-01-01  1.18            4.01            2.46  2.21   2.06   \n",
       "2020-01-01  1.98            6.39            4.29  3.37   2.43   \n",
       "2021-01-01  1.39            4.83            2.64  2.87   1.86   \n",
       "\n",
       "provinsi    SUMATERA SELATAN  BENGKULU  LAMPUNG  KEP. BANGKA BELITUNG  \\\n",
       "tahun                                                                   \n",
       "2018-01-01              2.32      2.56     2.55                  4.26   \n",
       "2019-01-01              2.27      1.99     2.20                  2.41   \n",
       "2020-01-01              3.41      2.98     4.01                  4.81   \n",
       "2021-01-01              2.76      1.94     3.56                  3.30   \n",
       "\n",
       "provinsi    KEP. RIAU  ...  SULAWESI TENGAH  SULAWESI SELATAN  \\\n",
       "tahun                  ...                                      \n",
       "2018-01-01       1.09  ...             4.67              4.63   \n",
       "2019-01-01       0.98  ...             4.04              4.90   \n",
       "2020-01-01       1.19  ...             5.59              6.16   \n",
       "2021-01-01       0.97  ...             5.12              5.33   \n",
       "\n",
       "provinsi    SULAWESI TENGGARA  GORONTALO  SULAWESI BARAT  MALUKU  \\\n",
       "tahun                                                              \n",
       "2018-01-01               5.32       4.56            3.70    2.14   \n",
       "2019-01-01               5.26       4.57            3.46    3.04   \n",
       "2020-01-01               8.05       5.46            5.28    3.35   \n",
       "2021-01-01               6.46       4.28            5.50    2.49   \n",
       "\n",
       "provinsi    MALUKU UTARA  PAPUA BARAT  PAPUA  INDONESIA  \n",
       "tahun                                                    \n",
       "2018-01-01          2.42         2.19   4.20       2.61  \n",
       "2019-01-01          3.51         2.30   3.17       2.35  \n",
       "2020-01-01          3.80         5.35   3.49       3.25  \n",
       "2021-01-01          2.12         3.81   3.25       2.63  \n",
       "\n",
       "[4 rows x 35 columns]"
      ]
     },
     "execution_count": 45,
     "metadata": {},
     "output_type": "execute_result"
    }
   ],
   "source": [
    "pers_anak_kerja.rename(columns={0: \"tahun\"}, inplace=True)\n",
    "pers_anak_kerja.set_index('tahun', inplace=True)\n",
    "pers_anak_kerja.sort_index(inplace=True)\n",
    "pers_anak_kerja.head()"
   ]
  },
  {
   "cell_type": "code",
   "execution_count": 7,
   "metadata": {},
   "outputs": [],
   "source": [
    "pers_anak_kerja.to_csv('data/child_labor_cleaned/pers_anak_kerja.csv')"
   ]
  },
  {
   "cell_type": "code",
   "execution_count": 8,
   "metadata": {},
   "outputs": [
    {
     "data": {
      "text/plain": [
       "Index(['ACEH', 'SUMATERA UTARA', 'SUMATERA BARAT', 'RIAU', 'JAMBI',\n",
       "       'SUMATERA SELATAN', 'BENGKULU', 'LAMPUNG', 'KEP. BANGKA BELITUNG',\n",
       "       'KEP. RIAU', 'DKI JAKARTA', 'JAWA BARAT', 'JAWA TENGAH',\n",
       "       'DI YOGYAKARTA', 'JAWA TIMUR', 'BANTEN', 'BALI', 'NUSA TENGGARA BARAT',\n",
       "       'NUSA TENGGARA TIMUR', 'KALIMANTAN BARAT', 'KALIMANTAN TENGAH',\n",
       "       'KALIMANTAN SELATAN', 'KALIMANTAN TIMUR', 'KALIMANTAN UTARA',\n",
       "       'SULAWESI UTARA', 'SULAWESI TENGAH', 'SULAWESI SELATAN',\n",
       "       'SULAWESI TENGGARA', 'GORONTALO', 'SULAWESI BARAT', 'MALUKU',\n",
       "       'MALUKU UTARA', 'PAPUA BARAT', 'PAPUA', 'INDONESIA'],\n",
       "      dtype='object', name='provinsi')"
      ]
     },
     "execution_count": 8,
     "metadata": {},
     "output_type": "execute_result"
    }
   ],
   "source": [
    "pers_anak_kerja.columns"
   ]
  },
  {
   "cell_type": "code",
   "execution_count": 9,
   "metadata": {},
   "outputs": [
    {
     "data": {
      "image/png": "[encoded data removed]",
      "text/plain": [
       "<Figure size 576x396 with 1 Axes>"
      ]
     },
     "metadata": {},
     "output_type": "display_data"
    }
   ],
   "source": [
    "ax = pers_anak_kerja[\"INDONESIA\"].plot(marker=\"o\")\n",
    "# create a seperator before and after 2020\n",
    "plt.axvline(x=\"2020\", color=\"red\", linestyle=\"--\")\n",
    "fill_thresholds_min, fill_thresholds_max = (\n",
    "    np.min(ax.get_yticks()) - 0.2,\n",
    "    np.max(ax.get_yticks()) + 0.2,\n",
    ")\n",
    "ax.fill_between(\n",
    "    pers_anak_kerja.index[:3],\n",
    "    fill_thresholds_min,\n",
    "    fill_thresholds_max,\n",
    "    color=\"green\",\n",
    "    alpha=0.2,\n",
    ")\n",
    "ax.fill_between(\n",
    "    pers_anak_kerja.index[2:],\n",
    "    fill_thresholds_min,\n",
    "    fill_thresholds_max,\n",
    "    color=\"red\",\n",
    "    alpha=0.2,\n",
    ")\n",
    "ax.text(\"2020\", fill_thresholds_max - 0.2, \"Pandemi\", style=\"italic\")\n",
    "ax.text(\"2019\", fill_thresholds_max - 0.2, \"Sebelum Pandemi\", style=\"italic\")\n",
    "plt.ylabel(\"Persentase anak usia 10-17 tahun yang bekerja\")\n",
    "plt.show()\n"
   ]
  },
  {
   "cell_type": "markdown",
   "metadata": {},
   "source": [
    "**Obersetvations:**\n",
    "- Pandemi COVID-19 pada tahun 2020 menyebabkan peningkatan drastis angka pekerja anak di Indonesia"
   ]
  },
  {
   "cell_type": "code",
   "execution_count": 10,
   "metadata": {},
   "outputs": [
    {
     "data": {
      "text/html": [
       "<div>\n",
       "<style scoped>\n",
       "    .dataframe tbody tr th:only-of-type {\n",
       "        vertical-align: middle;\n",
       "    }\n",
       "\n",
       "    .dataframe tbody tr th {\n",
       "        vertical-align: top;\n",
       "    }\n",
       "\n",
       "    .dataframe thead th {\n",
       "        text-align: right;\n",
       "    }\n",
       "</style>\n",
       "<table border=\"1\" class=\"dataframe\">\n",
       "  <thead>\n",
       "    <tr style=\"text-align: right;\">\n",
       "      <th></th>\n",
       "      <th>Jenis Kelamin + Jumlah</th>\n",
       "      <th>Persentase anak usia 10-17 tahun yang bekerja menurut jenis kelamin (Persen)</th>\n",
       "      <th>Unnamed: 2</th>\n",
       "      <th>Unnamed: 3</th>\n",
       "      <th>Unnamed: 4</th>\n",
       "    </tr>\n",
       "  </thead>\n",
       "  <tbody>\n",
       "    <tr>\n",
       "      <th>0</th>\n",
       "      <td>NaN</td>\n",
       "      <td>2018.00</td>\n",
       "      <td>2019.00</td>\n",
       "      <td>2020.00</td>\n",
       "      <td>2021.00</td>\n",
       "    </tr>\n",
       "    <tr>\n",
       "      <th>1</th>\n",
       "      <td>Laki-laki</td>\n",
       "      <td>2.97</td>\n",
       "      <td>2.73</td>\n",
       "      <td>3.34</td>\n",
       "      <td>2.67</td>\n",
       "    </tr>\n",
       "    <tr>\n",
       "      <th>2</th>\n",
       "      <td>Perempuan</td>\n",
       "      <td>2.24</td>\n",
       "      <td>1.96</td>\n",
       "      <td>3.16</td>\n",
       "      <td>2.60</td>\n",
       "    </tr>\n",
       "    <tr>\n",
       "      <th>3</th>\n",
       "      <td>Laki-laki + Perempuan</td>\n",
       "      <td>2.61</td>\n",
       "      <td>2.35</td>\n",
       "      <td>3.25</td>\n",
       "      <td>2.63</td>\n",
       "    </tr>\n",
       "    <tr>\n",
       "      <th>4</th>\n",
       "      <td>NaN</td>\n",
       "      <td>NaN</td>\n",
       "      <td>NaN</td>\n",
       "      <td>NaN</td>\n",
       "      <td>NaN</td>\n",
       "    </tr>\n",
       "  </tbody>\n",
       "</table>\n",
       "</div>"
      ],
      "text/plain": [
       "  Jenis Kelamin + Jumlah  \\\n",
       "0                    NaN   \n",
       "1              Laki-laki   \n",
       "2              Perempuan   \n",
       "3  Laki-laki + Perempuan   \n",
       "4                    NaN   \n",
       "\n",
       "   Persentase anak usia 10-17 tahun yang bekerja menurut jenis kelamin (Persen)  \\\n",
       "0                                            2018.00                              \n",
       "1                                               2.97                              \n",
       "2                                               2.24                              \n",
       "3                                               2.61                              \n",
       "4                                                NaN                              \n",
       "\n",
       "   Unnamed: 2  Unnamed: 3  Unnamed: 4  \n",
       "0     2019.00     2020.00     2021.00  \n",
       "1        2.73        3.34        2.67  \n",
       "2        1.96        3.16        2.60  \n",
       "3        2.35        3.25        2.63  \n",
       "4         NaN         NaN         NaN  "
      ]
     },
     "execution_count": 10,
     "metadata": {},
     "output_type": "execute_result"
    }
   ],
   "source": [
    "pers_anak_kerja_gender = pd.read_excel('data/child_labor/Persentase anak usia 10-17 tahun yang bekerja menurut jenis kelamin.xlsx')\n",
    "pers_anak_kerja_gender.head()"
   ]
  },
  {
   "cell_type": "code",
   "execution_count": 11,
   "metadata": {},
   "outputs": [
    {
     "data": {
      "text/html": [
       "<div>\n",
       "<style scoped>\n",
       "    .dataframe tbody tr th:only-of-type {\n",
       "        vertical-align: middle;\n",
       "    }\n",
       "\n",
       "    .dataframe tbody tr th {\n",
       "        vertical-align: top;\n",
       "    }\n",
       "\n",
       "    .dataframe thead th {\n",
       "        text-align: right;\n",
       "    }\n",
       "</style>\n",
       "<table border=\"1\" class=\"dataframe\">\n",
       "  <thead>\n",
       "    <tr style=\"text-align: right;\">\n",
       "      <th></th>\n",
       "      <th>gender</th>\n",
       "      <th>2018.0</th>\n",
       "      <th>2019.0</th>\n",
       "      <th>2020.0</th>\n",
       "      <th>2021.0</th>\n",
       "    </tr>\n",
       "  </thead>\n",
       "  <tbody>\n",
       "    <tr>\n",
       "      <th>1</th>\n",
       "      <td>Laki-laki</td>\n",
       "      <td>2.97</td>\n",
       "      <td>2.73</td>\n",
       "      <td>3.34</td>\n",
       "      <td>2.67</td>\n",
       "    </tr>\n",
       "    <tr>\n",
       "      <th>2</th>\n",
       "      <td>Perempuan</td>\n",
       "      <td>2.24</td>\n",
       "      <td>1.96</td>\n",
       "      <td>3.16</td>\n",
       "      <td>2.60</td>\n",
       "    </tr>\n",
       "    <tr>\n",
       "      <th>3</th>\n",
       "      <td>Laki-laki + Perempuan</td>\n",
       "      <td>2.61</td>\n",
       "      <td>2.35</td>\n",
       "      <td>3.25</td>\n",
       "      <td>2.63</td>\n",
       "    </tr>\n",
       "  </tbody>\n",
       "</table>\n",
       "</div>"
      ],
      "text/plain": [
       "0                 gender  2018.0  2019.0  2020.0  2021.0\n",
       "1              Laki-laki    2.97    2.73    3.34    2.67\n",
       "2              Perempuan    2.24    1.96    3.16    2.60\n",
       "3  Laki-laki + Perempuan    2.61    2.35    3.25    2.63"
      ]
     },
     "execution_count": 11,
     "metadata": {},
     "output_type": "execute_result"
    }
   ],
   "source": [
    "pers_anak_kerja_gender.loc[0, 'Jenis Kelamin + Jumlah'] = 'gender'\n",
    "pers_anak_kerja_gender.columns = pers_anak_kerja_gender.iloc[0, :]\n",
    "pers_anak_kerja_gender.drop(0, axis=0, inplace=True)\n",
    "pers_anak_kerja_gender.drop(pers_anak_kerja_gender.iloc[3:, :].index, axis=0, inplace=True)\n",
    "pers_anak_kerja_gender.head()"
   ]
  },
  {
   "cell_type": "code",
   "execution_count": 12,
   "metadata": {},
   "outputs": [
    {
     "data": {
      "text/html": [
       "<div>\n",
       "<style scoped>\n",
       "    .dataframe tbody tr th:only-of-type {\n",
       "        vertical-align: middle;\n",
       "    }\n",
       "\n",
       "    .dataframe tbody tr th {\n",
       "        vertical-align: top;\n",
       "    }\n",
       "\n",
       "    .dataframe thead th {\n",
       "        text-align: right;\n",
       "    }\n",
       "</style>\n",
       "<table border=\"1\" class=\"dataframe\">\n",
       "  <thead>\n",
       "    <tr style=\"text-align: right;\">\n",
       "      <th></th>\n",
       "      <th>2018-01-01</th>\n",
       "      <th>2019-01-01</th>\n",
       "      <th>2020-01-01</th>\n",
       "      <th>2021-01-01</th>\n",
       "    </tr>\n",
       "    <tr>\n",
       "      <th>gender</th>\n",
       "      <th></th>\n",
       "      <th></th>\n",
       "      <th></th>\n",
       "      <th></th>\n",
       "    </tr>\n",
       "  </thead>\n",
       "  <tbody>\n",
       "    <tr>\n",
       "      <th>Laki-laki</th>\n",
       "      <td>2.97</td>\n",
       "      <td>2.73</td>\n",
       "      <td>3.34</td>\n",
       "      <td>2.67</td>\n",
       "    </tr>\n",
       "    <tr>\n",
       "      <th>Perempuan</th>\n",
       "      <td>2.24</td>\n",
       "      <td>1.96</td>\n",
       "      <td>3.16</td>\n",
       "      <td>2.60</td>\n",
       "    </tr>\n",
       "    <tr>\n",
       "      <th>Laki-laki + Perempuan</th>\n",
       "      <td>2.61</td>\n",
       "      <td>2.35</td>\n",
       "      <td>3.25</td>\n",
       "      <td>2.63</td>\n",
       "    </tr>\n",
       "  </tbody>\n",
       "</table>\n",
       "</div>"
      ],
      "text/plain": [
       "0                      2018-01-01  2019-01-01  2020-01-01  2021-01-01\n",
       "gender                                                               \n",
       "Laki-laki                    2.97        2.73        3.34        2.67\n",
       "Perempuan                    2.24        1.96        3.16        2.60\n",
       "Laki-laki + Perempuan        2.61        2.35        3.25        2.63"
      ]
     },
     "execution_count": 12,
     "metadata": {},
     "output_type": "execute_result"
    }
   ],
   "source": [
    "pers_anak_kerja_gender.set_index('gender', inplace=True)\n",
    "pers_anak_kerja_gender.columns = pd.to_datetime(pers_anak_kerja_gender.columns.astype(int).astype(str))\n",
    "pers_anak_kerja_gender.head()"
   ]
  },
  {
   "cell_type": "code",
   "execution_count": 13,
   "metadata": {},
   "outputs": [
    {
     "data": {
      "text/html": [
       "<div>\n",
       "<style scoped>\n",
       "    .dataframe tbody tr th:only-of-type {\n",
       "        vertical-align: middle;\n",
       "    }\n",
       "\n",
       "    .dataframe tbody tr th {\n",
       "        vertical-align: top;\n",
       "    }\n",
       "\n",
       "    .dataframe thead th {\n",
       "        text-align: right;\n",
       "    }\n",
       "</style>\n",
       "<table border=\"1\" class=\"dataframe\">\n",
       "  <thead>\n",
       "    <tr style=\"text-align: right;\">\n",
       "      <th>gender</th>\n",
       "      <th>Laki-laki</th>\n",
       "      <th>Perempuan</th>\n",
       "      <th>Laki-laki + Perempuan</th>\n",
       "    </tr>\n",
       "    <tr>\n",
       "      <th>tahun</th>\n",
       "      <th></th>\n",
       "      <th></th>\n",
       "      <th></th>\n",
       "    </tr>\n",
       "  </thead>\n",
       "  <tbody>\n",
       "    <tr>\n",
       "      <th>2018-01-01</th>\n",
       "      <td>2.97</td>\n",
       "      <td>2.24</td>\n",
       "      <td>2.61</td>\n",
       "    </tr>\n",
       "    <tr>\n",
       "      <th>2019-01-01</th>\n",
       "      <td>2.73</td>\n",
       "      <td>1.96</td>\n",
       "      <td>2.35</td>\n",
       "    </tr>\n",
       "    <tr>\n",
       "      <th>2020-01-01</th>\n",
       "      <td>3.34</td>\n",
       "      <td>3.16</td>\n",
       "      <td>3.25</td>\n",
       "    </tr>\n",
       "    <tr>\n",
       "      <th>2021-01-01</th>\n",
       "      <td>2.67</td>\n",
       "      <td>2.60</td>\n",
       "      <td>2.63</td>\n",
       "    </tr>\n",
       "  </tbody>\n",
       "</table>\n",
       "</div>"
      ],
      "text/plain": [
       "gender      Laki-laki  Perempuan  Laki-laki + Perempuan\n",
       "tahun                                                  \n",
       "2018-01-01       2.97       2.24                   2.61\n",
       "2019-01-01       2.73       1.96                   2.35\n",
       "2020-01-01       3.34       3.16                   3.25\n",
       "2021-01-01       2.67       2.60                   2.63"
      ]
     },
     "execution_count": 13,
     "metadata": {},
     "output_type": "execute_result"
    }
   ],
   "source": [
    "pers_anak_kerja_gender = pers_anak_kerja_gender.T.reset_index()\n",
    "pers_anak_kerja_gender.rename(columns={0: \"tahun\"}, inplace=True)\n",
    "pers_anak_kerja_gender.set_index('tahun', inplace=True)\n",
    "pers_anak_kerja_gender.sort_index(inplace=True)\n",
    "pers_anak_kerja_gender.head()"
   ]
  },
  {
   "cell_type": "code",
   "execution_count": 14,
   "metadata": {},
   "outputs": [],
   "source": [
    "pers_anak_kerja_gender.to_csv(\"data/child_labor_cleaned/pers_anak_kerja_gender.csv\")"
   ]
  },
  {
   "cell_type": "code",
   "execution_count": 15,
   "metadata": {},
   "outputs": [
    {
     "data": {
      "image/png": "[encoded data removed]",
      "text/plain": [
       "<Figure size 576x396 with 1 Axes>"
      ]
     },
     "metadata": {},
     "output_type": "display_data"
    }
   ],
   "source": [
    "ax = pers_anak_kerja_gender[\"Laki-laki\"].plot(marker=\"o\", color=\"b\")\n",
    "ax = pers_anak_kerja_gender[\"Perempuan\"].plot(marker=\"o\", color=\"r\")\n",
    "# create a seperator before and after 2020\n",
    "plt.axvline(x=\"2020\", color=\"red\", linestyle=\"--\")\n",
    "fill_thresholds_min, fill_thresholds_max = (\n",
    "    np.min(ax.get_yticks()) - 0.2,\n",
    "    np.max(ax.get_yticks()) + 0.2,\n",
    ")\n",
    "ax.fill_between(\n",
    "    pers_anak_kerja.index[:3],\n",
    "    fill_thresholds_min,\n",
    "    fill_thresholds_max,\n",
    "    color=\"green\",\n",
    "    alpha=0.2,\n",
    ")\n",
    "ax.fill_between(\n",
    "    pers_anak_kerja.index[2:],\n",
    "    fill_thresholds_min,\n",
    "    fill_thresholds_max,\n",
    "    color=\"red\",\n",
    "    alpha=0.2,\n",
    ")\n",
    "# create text top left\n",
    "ax.text(\"2020\", 3.4, \"Pandemi\", style=\"italic\")\n",
    "ax.text(\"2019\", 3.4, \"Sebelum Pandemi\", style=\"italic\")\n",
    "plt.ylabel(\"Persentase anak usia 10-17 tahun yang bekerja\")\n",
    "plt.show()\n"
   ]
  },
  {
   "cell_type": "markdown",
   "metadata": {},
   "source": [
    "**Observations:**\n",
    "- Anak Laki-laki lebih banyak yang menjadi Pekerja Anak daripada Perempuan"
   ]
  },
  {
   "cell_type": "code",
   "execution_count": 59,
   "metadata": {},
   "outputs": [
    {
     "data": {
      "text/html": [
       "<div>\n",
       "<style scoped>\n",
       "    .dataframe tbody tr th:only-of-type {\n",
       "        vertical-align: middle;\n",
       "    }\n",
       "\n",
       "    .dataframe tbody tr th {\n",
       "        vertical-align: top;\n",
       "    }\n",
       "\n",
       "    .dataframe thead th {\n",
       "        text-align: right;\n",
       "    }\n",
       "</style>\n",
       "<table border=\"1\" class=\"dataframe\">\n",
       "  <thead>\n",
       "    <tr style=\"text-align: right;\">\n",
       "      <th></th>\n",
       "      <th>provinsi</th>\n",
       "      <th>persentase</th>\n",
       "    </tr>\n",
       "  </thead>\n",
       "  <tbody>\n",
       "    <tr>\n",
       "      <th>0</th>\n",
       "      <td>SULAWESI TENGGARA</td>\n",
       "      <td>6.46</td>\n",
       "    </tr>\n",
       "    <tr>\n",
       "      <th>1</th>\n",
       "      <td>KALIMANTAN UTARA</td>\n",
       "      <td>5.66</td>\n",
       "    </tr>\n",
       "    <tr>\n",
       "      <th>2</th>\n",
       "      <td>SULAWESI BARAT</td>\n",
       "      <td>5.50</td>\n",
       "    </tr>\n",
       "    <tr>\n",
       "      <th>3</th>\n",
       "      <td>SULAWESI SELATAN</td>\n",
       "      <td>5.33</td>\n",
       "    </tr>\n",
       "    <tr>\n",
       "      <th>4</th>\n",
       "      <td>SULAWESI TENGAH</td>\n",
       "      <td>5.12</td>\n",
       "    </tr>\n",
       "  </tbody>\n",
       "</table>\n",
       "</div>"
      ],
      "text/plain": [
       "            provinsi  persentase\n",
       "0  SULAWESI TENGGARA        6.46\n",
       "1   KALIMANTAN UTARA        5.66\n",
       "2     SULAWESI BARAT        5.50\n",
       "3   SULAWESI SELATAN        5.33\n",
       "4    SULAWESI TENGAH        5.12"
      ]
     },
     "execution_count": 59,
     "metadata": {},
     "output_type": "execute_result"
    }
   ],
   "source": [
    "pers_anak_kerja_rank = pers_anak_kerja.loc['2021', :].T.reset_index()\n",
    "pers_anak_kerja_rank.columns = ['provinsi', 'persentase']\n",
    "pers_anak_kerja_rank.sort_values(by='persentase', ascending=False, inplace=True)\n",
    "pers_anak_kerja_rank.reset_index(drop=True, inplace=True)\n",
    "pers_anak_kerja_rank.head()"
   ]
  },
  {
   "cell_type": "code",
   "execution_count": null,
   "metadata": {},
   "outputs": [],
   "source": [
    "pers_anak_kerja_rank.to_csv('data/child_labor_cleaned/pers_anak_kerja_rank.csv', index=False)"
   ]
  },
  {
   "cell_type": "code",
   "execution_count": 60,
   "metadata": {},
   "outputs": [
    {
     "data": {
      "image/png": "[encoded data removed]",
      "text/plain": [
       "<Figure size 576x396 with 1 Axes>"
      ]
     },
     "metadata": {},
     "output_type": "display_data"
    }
   ],
   "source": [
    "sns.barplot(x='provinsi', y='persentase', data=pers_anak_kerja_rank, palette='Blues_d')\n",
    "plt.xticks(rotation=90)\n",
    "plt.show()"
   ]
  },
  {
   "cell_type": "markdown",
   "metadata": {},
   "source": [
    "### Angka Pekerja Anak pada 2020"
   ]
  },
  {
   "cell_type": "code",
   "execution_count": null,
   "metadata": {},
   "outputs": [
    {
     "data": {
      "text/html": [
       "<div>\n",
       "<style scoped>\n",
       "    .dataframe tbody tr th:only-of-type {\n",
       "        vertical-align: middle;\n",
       "    }\n",
       "\n",
       "    .dataframe tbody tr th {\n",
       "        vertical-align: top;\n",
       "    }\n",
       "\n",
       "    .dataframe thead th {\n",
       "        text-align: right;\n",
       "    }\n",
       "</style>\n",
       "<table border=\"1\" class=\"dataframe\">\n",
       "  <thead>\n",
       "    <tr style=\"text-align: right;\">\n",
       "      <th></th>\n",
       "      <th>nama_alias</th>\n",
       "      <th>10-12 tahun</th>\n",
       "      <th>13-14 tahun</th>\n",
       "      <th>15-17 tahun</th>\n",
       "    </tr>\n",
       "  </thead>\n",
       "  <tbody>\n",
       "    <tr>\n",
       "      <th>0</th>\n",
       "      <td>2019</td>\n",
       "      <td>1.83</td>\n",
       "      <td>2.07</td>\n",
       "      <td>3.08</td>\n",
       "    </tr>\n",
       "    <tr>\n",
       "      <th>1</th>\n",
       "      <td>2020</td>\n",
       "      <td>3.60</td>\n",
       "      <td>3.34</td>\n",
       "      <td>2.85</td>\n",
       "    </tr>\n",
       "  </tbody>\n",
       "</table>\n",
       "</div>"
      ],
      "text/plain": [
       "   nama_alias  10-12 tahun  13-14 tahun  15-17 tahun\n",
       "0        2019         1.83         2.07         3.08\n",
       "1        2020         3.60         3.34         2.85"
      ]
     },
     "execution_count": 19,
     "metadata": {},
     "output_type": "execute_result"
    }
   ],
   "source": [
    "angka_pekerja_anak_2020 = pd.read_excel('data/child_labor/angka-pekerja-anak-di-indonesia-meningkat-pada-2020.xlsx')\n",
    "angka_pekerja_anak_2020.head()"
   ]
  },
  {
   "cell_type": "code",
   "execution_count": null,
   "metadata": {},
   "outputs": [
    {
     "data": {
      "text/html": [
       "<div>\n",
       "<style scoped>\n",
       "    .dataframe tbody tr th:only-of-type {\n",
       "        vertical-align: middle;\n",
       "    }\n",
       "\n",
       "    .dataframe tbody tr th {\n",
       "        vertical-align: top;\n",
       "    }\n",
       "\n",
       "    .dataframe thead th {\n",
       "        text-align: right;\n",
       "    }\n",
       "</style>\n",
       "<table border=\"1\" class=\"dataframe\">\n",
       "  <thead>\n",
       "    <tr style=\"text-align: right;\">\n",
       "      <th></th>\n",
       "      <th>10-12 tahun</th>\n",
       "      <th>13-14 tahun</th>\n",
       "      <th>15-17 tahun</th>\n",
       "    </tr>\n",
       "    <tr>\n",
       "      <th>tahun</th>\n",
       "      <th></th>\n",
       "      <th></th>\n",
       "      <th></th>\n",
       "    </tr>\n",
       "  </thead>\n",
       "  <tbody>\n",
       "    <tr>\n",
       "      <th>2019</th>\n",
       "      <td>1.83</td>\n",
       "      <td>2.07</td>\n",
       "      <td>3.08</td>\n",
       "    </tr>\n",
       "    <tr>\n",
       "      <th>2020</th>\n",
       "      <td>3.60</td>\n",
       "      <td>3.34</td>\n",
       "      <td>2.85</td>\n",
       "    </tr>\n",
       "  </tbody>\n",
       "</table>\n",
       "</div>"
      ],
      "text/plain": [
       "       10-12 tahun  13-14 tahun  15-17 tahun\n",
       "tahun                                       \n",
       "2019          1.83         2.07         3.08\n",
       "2020          3.60         3.34         2.85"
      ]
     },
     "execution_count": 20,
     "metadata": {},
     "output_type": "execute_result"
    }
   ],
   "source": [
    "angka_pekerja_anak_2020.rename(columns={'nama_alias': 'tahun'}, inplace=True)\n",
    "angka_pekerja_anak_2020.set_index('tahun', inplace=True)\n",
    "angka_pekerja_anak_2020.head()"
   ]
  },
  {
   "cell_type": "code",
   "execution_count": null,
   "metadata": {},
   "outputs": [],
   "source": [
    "angka_pekerja_anak_2020.to_csv('data/child_labor_cleaned/angka_pekerja_anak_2020.csv')"
   ]
  },
  {
   "cell_type": "code",
   "execution_count": null,
   "metadata": {},
   "outputs": [],
   "source": [
    "# angka_pekerja_anak_2020.reset_index(inplace=True)\n",
    "# angka_pekerja_anak_2020.head()"
   ]
  },
  {
   "cell_type": "code",
   "execution_count": null,
   "metadata": {},
   "outputs": [],
   "source": [
    "# pd.melt(\n",
    "#     angka_pekerja_anak_2020,\n",
    "#     id_vars=[\"tahun\"],\n",
    "#     value_vars=[\"10-12 tahun\", \"13-14 tahun\", \"15-17 tahun\"],\n",
    "#     var_name=\"provinsi\",\n",
    "#     value_name=\"persentase_kenaikan\",\n",
    "# )"
   ]
  },
  {
   "cell_type": "code",
   "execution_count": null,
   "metadata": {},
   "outputs": [
    {
     "data": {
      "image/png": "[encoded data removed]",
      "text/plain": [
       "<Figure size 576x396 with 1 Axes>"
      ]
     },
     "metadata": {},
     "output_type": "display_data"
    }
   ],
   "source": [
    "angka_pekerja_anak_2020.plot(kind='bar')\n",
    "plt.ylabel('%')\n",
    "plt.show()"
   ]
  },
  {
   "cell_type": "markdown",
   "metadata": {},
   "source": [
    "**Observations:**\n",
    "- Pada 2020 terdapan peningkatan dari hampir semua kalangan umur anak.\n",
    "- Kenaikan paling drastis terjadi pada kalangan anak berumur 10-12 tahun (naik 96.7% dari 2019)"
   ]
  },
  {
   "cell_type": "markdown",
   "metadata": {},
   "source": [
    "### Pekerja Anak Putus Sekolah"
   ]
  },
  {
   "cell_type": "code",
   "execution_count": 61,
   "metadata": {},
   "outputs": [
    {
     "data": {
      "text/html": [
       "<div>\n",
       "<style scoped>\n",
       "    .dataframe tbody tr th:only-of-type {\n",
       "        vertical-align: middle;\n",
       "    }\n",
       "\n",
       "    .dataframe tbody tr th {\n",
       "        vertical-align: top;\n",
       "    }\n",
       "\n",
       "    .dataframe thead th {\n",
       "        text-align: right;\n",
       "    }\n",
       "</style>\n",
       "<table border=\"1\" class=\"dataframe\">\n",
       "  <thead>\n",
       "    <tr style=\"text-align: right;\">\n",
       "      <th></th>\n",
       "      <th>nama_alias</th>\n",
       "      <th>tidak/blm pernah sekolah</th>\n",
       "      <th>masih bersekolah</th>\n",
       "      <th>tidak bersekolah lagi</th>\n",
       "    </tr>\n",
       "  </thead>\n",
       "  <tbody>\n",
       "    <tr>\n",
       "      <th>0</th>\n",
       "      <td>2020</td>\n",
       "      <td>5.91</td>\n",
       "      <td>2.40</td>\n",
       "      <td>15.83</td>\n",
       "    </tr>\n",
       "    <tr>\n",
       "      <th>1</th>\n",
       "      <td>2021</td>\n",
       "      <td>2.82</td>\n",
       "      <td>2.04</td>\n",
       "      <td>15.03</td>\n",
       "    </tr>\n",
       "  </tbody>\n",
       "</table>\n",
       "</div>"
      ],
      "text/plain": [
       "   nama_alias  tidak/blm pernah sekolah  masih bersekolah  \\\n",
       "0        2020                      5.91              2.40   \n",
       "1        2021                      2.82              2.04   \n",
       "\n",
       "   tidak bersekolah lagi  \n",
       "0                  15.83  \n",
       "1                  15.03  "
      ]
     },
     "execution_count": 61,
     "metadata": {},
     "output_type": "execute_result"
    }
   ],
   "source": [
    "pekerja_anak_sekolah = pd.read_excel('data/child_labor/pekerja-anak-sekolah.xlsx')\n",
    "pekerja_anak_sekolah.head()"
   ]
  },
  {
   "cell_type": "code",
   "execution_count": 62,
   "metadata": {},
   "outputs": [
    {
     "data": {
      "text/html": [
       "<div>\n",
       "<style scoped>\n",
       "    .dataframe tbody tr th:only-of-type {\n",
       "        vertical-align: middle;\n",
       "    }\n",
       "\n",
       "    .dataframe tbody tr th {\n",
       "        vertical-align: top;\n",
       "    }\n",
       "\n",
       "    .dataframe thead th {\n",
       "        text-align: right;\n",
       "    }\n",
       "</style>\n",
       "<table border=\"1\" class=\"dataframe\">\n",
       "  <thead>\n",
       "    <tr style=\"text-align: right;\">\n",
       "      <th></th>\n",
       "      <th>tidak/blm pernah sekolah</th>\n",
       "      <th>masih bersekolah</th>\n",
       "      <th>tidak bersekolah lagi</th>\n",
       "    </tr>\n",
       "    <tr>\n",
       "      <th>tahun</th>\n",
       "      <th></th>\n",
       "      <th></th>\n",
       "      <th></th>\n",
       "    </tr>\n",
       "  </thead>\n",
       "  <tbody>\n",
       "    <tr>\n",
       "      <th>2020</th>\n",
       "      <td>5.91</td>\n",
       "      <td>2.40</td>\n",
       "      <td>15.83</td>\n",
       "    </tr>\n",
       "    <tr>\n",
       "      <th>2021</th>\n",
       "      <td>2.82</td>\n",
       "      <td>2.04</td>\n",
       "      <td>15.03</td>\n",
       "    </tr>\n",
       "  </tbody>\n",
       "</table>\n",
       "</div>"
      ],
      "text/plain": [
       "       tidak/blm pernah sekolah  masih bersekolah  tidak bersekolah lagi\n",
       "tahun                                                                   \n",
       "2020                       5.91              2.40                  15.83\n",
       "2021                       2.82              2.04                  15.03"
      ]
     },
     "execution_count": 62,
     "metadata": {},
     "output_type": "execute_result"
    }
   ],
   "source": [
    "pekerja_anak_sekolah.rename(columns={'nama_alias': 'tahun'}, inplace=True)\n",
    "pekerja_anak_sekolah.set_index('tahun', inplace=True)\n",
    "pekerja_anak_sekolah.head()"
   ]
  },
  {
   "cell_type": "code",
   "execution_count": null,
   "metadata": {},
   "outputs": [],
   "source": [
    "pekerja_anak_sekolah.to_csv('data/child_labor_cleaned/pekerja_anak_sekolah.csv')"
   ]
  },
  {
   "cell_type": "code",
   "execution_count": null,
   "metadata": {},
   "outputs": [
    {
     "data": {
      "image/png": "[encoded data removed]",
      "text/plain": [
       "<Figure size 576x396 with 1 Axes>"
      ]
     },
     "metadata": {},
     "output_type": "display_data"
    }
   ],
   "source": [
    "pekerja_anak_sekolah.plot(kind='bar')\n",
    "plt.ylabel('%')\n",
    "plt.show()"
   ]
  },
  {
   "cell_type": "markdown",
   "metadata": {},
   "source": [
    "**Observations:**\n",
    "- Pekerja anak didominasi oleh anak-anak yang putus sekolah dengan 15.83% pada 2020 dan 15.03% pada 2021"
   ]
  },
  {
   "cell_type": "markdown",
   "metadata": {},
   "source": [
    "### Angka Putus Sekolah (not used)"
   ]
  },
  {
   "cell_type": "code",
   "execution_count": null,
   "metadata": {},
   "outputs": [
    {
     "data": {
      "text/html": [
       "<div>\n",
       "<style scoped>\n",
       "    .dataframe tbody tr th:only-of-type {\n",
       "        vertical-align: middle;\n",
       "    }\n",
       "\n",
       "    .dataframe tbody tr th {\n",
       "        vertical-align: top;\n",
       "    }\n",
       "\n",
       "    .dataframe thead th {\n",
       "        text-align: right;\n",
       "    }\n",
       "</style>\n",
       "<table border=\"1\" class=\"dataframe\">\n",
       "  <thead>\n",
       "    <tr style=\"text-align: right;\">\n",
       "      <th></th>\n",
       "      <th>date</th>\n",
       "      <th>SD</th>\n",
       "      <th>SMP</th>\n",
       "      <th>SMK</th>\n",
       "      <th>SMA</th>\n",
       "    </tr>\n",
       "  </thead>\n",
       "  <tbody>\n",
       "    <tr>\n",
       "      <th>0</th>\n",
       "      <td>2016-12-31</td>\n",
       "      <td>39213</td>\n",
       "      <td>38702</td>\n",
       "      <td>72744</td>\n",
       "      <td>36419</td>\n",
       "    </tr>\n",
       "    <tr>\n",
       "      <th>1</th>\n",
       "      <td>2017-12-31</td>\n",
       "      <td>32127</td>\n",
       "      <td>51190</td>\n",
       "      <td>73388</td>\n",
       "      <td>31123</td>\n",
       "    </tr>\n",
       "    <tr>\n",
       "      <th>2</th>\n",
       "      <td>2018-12-31</td>\n",
       "      <td>33268</td>\n",
       "      <td>28651</td>\n",
       "      <td>25357</td>\n",
       "      <td>15953</td>\n",
       "    </tr>\n",
       "    <tr>\n",
       "      <th>3</th>\n",
       "      <td>2019-12-31</td>\n",
       "      <td>59443</td>\n",
       "      <td>38464</td>\n",
       "      <td>32395</td>\n",
       "      <td>26864</td>\n",
       "    </tr>\n",
       "    <tr>\n",
       "      <th>4</th>\n",
       "      <td>2020-12-31</td>\n",
       "      <td>44516</td>\n",
       "      <td>11378</td>\n",
       "      <td>13951</td>\n",
       "      <td>13879</td>\n",
       "    </tr>\n",
       "  </tbody>\n",
       "</table>\n",
       "</div>"
      ],
      "text/plain": [
       "         date     SD    SMP    SMK    SMA\n",
       "0  2016-12-31  39213  38702  72744  36419\n",
       "1  2017-12-31  32127  51190  73388  31123\n",
       "2  2018-12-31  33268  28651  25357  15953\n",
       "3  2019-12-31  59443  38464  32395  26864\n",
       "4  2020-12-31  44516  11378  13951  13879"
      ]
     },
     "execution_count": 29,
     "metadata": {},
     "output_type": "execute_result"
    }
   ],
   "source": [
    "aps = pd.read_excel('data/child_labor/jumlah-anak-putus-sekolah-di-indonesia.xlsx')\n",
    "aps.head()"
   ]
  },
  {
   "cell_type": "code",
   "execution_count": null,
   "metadata": {},
   "outputs": [
    {
     "data": {
      "text/html": [
       "<div>\n",
       "<style scoped>\n",
       "    .dataframe tbody tr th:only-of-type {\n",
       "        vertical-align: middle;\n",
       "    }\n",
       "\n",
       "    .dataframe tbody tr th {\n",
       "        vertical-align: top;\n",
       "    }\n",
       "\n",
       "    .dataframe thead th {\n",
       "        text-align: right;\n",
       "    }\n",
       "</style>\n",
       "<table border=\"1\" class=\"dataframe\">\n",
       "  <thead>\n",
       "    <tr style=\"text-align: right;\">\n",
       "      <th></th>\n",
       "      <th>SD</th>\n",
       "      <th>SMP</th>\n",
       "      <th>SMK</th>\n",
       "      <th>SMA</th>\n",
       "    </tr>\n",
       "    <tr>\n",
       "      <th>date</th>\n",
       "      <th></th>\n",
       "      <th></th>\n",
       "      <th></th>\n",
       "      <th></th>\n",
       "    </tr>\n",
       "  </thead>\n",
       "  <tbody>\n",
       "    <tr>\n",
       "      <th>2016-12-31</th>\n",
       "      <td>39213</td>\n",
       "      <td>38702</td>\n",
       "      <td>72744</td>\n",
       "      <td>36419</td>\n",
       "    </tr>\n",
       "    <tr>\n",
       "      <th>2017-12-31</th>\n",
       "      <td>32127</td>\n",
       "      <td>51190</td>\n",
       "      <td>73388</td>\n",
       "      <td>31123</td>\n",
       "    </tr>\n",
       "    <tr>\n",
       "      <th>2018-12-31</th>\n",
       "      <td>33268</td>\n",
       "      <td>28651</td>\n",
       "      <td>25357</td>\n",
       "      <td>15953</td>\n",
       "    </tr>\n",
       "    <tr>\n",
       "      <th>2019-12-31</th>\n",
       "      <td>59443</td>\n",
       "      <td>38464</td>\n",
       "      <td>32395</td>\n",
       "      <td>26864</td>\n",
       "    </tr>\n",
       "    <tr>\n",
       "      <th>2020-12-31</th>\n",
       "      <td>44516</td>\n",
       "      <td>11378</td>\n",
       "      <td>13951</td>\n",
       "      <td>13879</td>\n",
       "    </tr>\n",
       "  </tbody>\n",
       "</table>\n",
       "</div>"
      ],
      "text/plain": [
       "               SD    SMP    SMK    SMA\n",
       "date                                  \n",
       "2016-12-31  39213  38702  72744  36419\n",
       "2017-12-31  32127  51190  73388  31123\n",
       "2018-12-31  33268  28651  25357  15953\n",
       "2019-12-31  59443  38464  32395  26864\n",
       "2020-12-31  44516  11378  13951  13879"
      ]
     },
     "execution_count": 30,
     "metadata": {},
     "output_type": "execute_result"
    }
   ],
   "source": [
    "aps['date'] = pd.to_datetime(aps['date'])\n",
    "aps.set_index('date', inplace=True)\n",
    "aps.head()"
   ]
  },
  {
   "cell_type": "code",
   "execution_count": null,
   "metadata": {},
   "outputs": [
    {
     "data": {
      "image/png": "[encoded data removed]",
      "text/plain": [
       "<Figure size 576x396 with 1 Axes>"
      ]
     },
     "metadata": {},
     "output_type": "display_data"
    }
   ],
   "source": [
    "aps.plot(marker=\"o\")\n",
    "plt.show()"
   ]
  },
  {
   "cell_type": "markdown",
   "metadata": {},
   "source": [
    "### Angka Putus Sekolah murid SD per Provinsi (not used)"
   ]
  },
  {
   "cell_type": "code",
   "execution_count": null,
   "metadata": {},
   "outputs": [
    {
     "data": {
      "text/html": [
       "<div>\n",
       "<style scoped>\n",
       "    .dataframe tbody tr th:only-of-type {\n",
       "        vertical-align: middle;\n",
       "    }\n",
       "\n",
       "    .dataframe tbody tr th {\n",
       "        vertical-align: top;\n",
       "    }\n",
       "\n",
       "    .dataframe thead th {\n",
       "        text-align: right;\n",
       "    }\n",
       "</style>\n",
       "<table border=\"1\" class=\"dataframe\">\n",
       "  <thead>\n",
       "    <tr style=\"text-align: right;\">\n",
       "      <th></th>\n",
       "      <th>nama_data</th>\n",
       "      <th>value</th>\n",
       "    </tr>\n",
       "  </thead>\n",
       "  <tbody>\n",
       "    <tr>\n",
       "      <th>0</th>\n",
       "      <td>DKI Jakarta</td>\n",
       "      <td>0.69</td>\n",
       "    </tr>\n",
       "    <tr>\n",
       "      <th>1</th>\n",
       "      <td>Kalimantan Utara</td>\n",
       "      <td>0.42</td>\n",
       "    </tr>\n",
       "    <tr>\n",
       "      <th>2</th>\n",
       "      <td>Gorontalo</td>\n",
       "      <td>0.31</td>\n",
       "    </tr>\n",
       "    <tr>\n",
       "      <th>3</th>\n",
       "      <td>Papua Barat</td>\n",
       "      <td>0.30</td>\n",
       "    </tr>\n",
       "    <tr>\n",
       "      <th>4</th>\n",
       "      <td>Sulawesi Selatan</td>\n",
       "      <td>0.28</td>\n",
       "    </tr>\n",
       "  </tbody>\n",
       "</table>\n",
       "</div>"
      ],
      "text/plain": [
       "          nama_data  value\n",
       "0       DKI Jakarta   0.69\n",
       "1  Kalimantan Utara   0.42\n",
       "2         Gorontalo   0.31\n",
       "3       Papua Barat   0.30\n",
       "4  Sulawesi Selatan   0.28"
      ]
     },
     "execution_count": 32,
     "metadata": {},
     "output_type": "execute_result"
    }
   ],
   "source": [
    "aps_sd_provinsi = pd.read_excel('data/child_labor/angka-putus-sekolah-murid-sd-per-provinsi.xlsx')\n",
    "aps_sd_provinsi.head()"
   ]
  },
  {
   "cell_type": "code",
   "execution_count": null,
   "metadata": {},
   "outputs": [
    {
     "data": {
      "text/html": [
       "<div>\n",
       "<style scoped>\n",
       "    .dataframe tbody tr th:only-of-type {\n",
       "        vertical-align: middle;\n",
       "    }\n",
       "\n",
       "    .dataframe tbody tr th {\n",
       "        vertical-align: top;\n",
       "    }\n",
       "\n",
       "    .dataframe thead th {\n",
       "        text-align: right;\n",
       "    }\n",
       "</style>\n",
       "<table border=\"1\" class=\"dataframe\">\n",
       "  <thead>\n",
       "    <tr style=\"text-align: right;\">\n",
       "      <th></th>\n",
       "      <th>provinsi</th>\n",
       "      <th>angka_putus_sekolah</th>\n",
       "    </tr>\n",
       "  </thead>\n",
       "  <tbody>\n",
       "    <tr>\n",
       "      <th>0</th>\n",
       "      <td>DKI Jakarta</td>\n",
       "      <td>0.69</td>\n",
       "    </tr>\n",
       "    <tr>\n",
       "      <th>1</th>\n",
       "      <td>Kalimantan Utara</td>\n",
       "      <td>0.42</td>\n",
       "    </tr>\n",
       "    <tr>\n",
       "      <th>2</th>\n",
       "      <td>Gorontalo</td>\n",
       "      <td>0.31</td>\n",
       "    </tr>\n",
       "    <tr>\n",
       "      <th>3</th>\n",
       "      <td>Papua Barat</td>\n",
       "      <td>0.30</td>\n",
       "    </tr>\n",
       "    <tr>\n",
       "      <th>4</th>\n",
       "      <td>Sulawesi Selatan</td>\n",
       "      <td>0.28</td>\n",
       "    </tr>\n",
       "  </tbody>\n",
       "</table>\n",
       "</div>"
      ],
      "text/plain": [
       "           provinsi  angka_putus_sekolah\n",
       "0       DKI Jakarta                 0.69\n",
       "1  Kalimantan Utara                 0.42\n",
       "2         Gorontalo                 0.31\n",
       "3       Papua Barat                 0.30\n",
       "4  Sulawesi Selatan                 0.28"
      ]
     },
     "execution_count": 33,
     "metadata": {},
     "output_type": "execute_result"
    }
   ],
   "source": [
    "aps_sd_provinsi.columns = ['provinsi', 'angka_putus_sekolah']\n",
    "aps_sd_provinsi.head()"
   ]
  },
  {
   "cell_type": "code",
   "execution_count": null,
   "metadata": {},
   "outputs": [
    {
     "data": {
      "text/html": [
       "<div>\n",
       "<style scoped>\n",
       "    .dataframe tbody tr th:only-of-type {\n",
       "        vertical-align: middle;\n",
       "    }\n",
       "\n",
       "    .dataframe tbody tr th {\n",
       "        vertical-align: top;\n",
       "    }\n",
       "\n",
       "    .dataframe thead th {\n",
       "        text-align: right;\n",
       "    }\n",
       "</style>\n",
       "<table border=\"1\" class=\"dataframe\">\n",
       "  <thead>\n",
       "    <tr style=\"text-align: right;\">\n",
       "      <th></th>\n",
       "      <th>provinsi</th>\n",
       "      <th>angka_putus_sekolah</th>\n",
       "    </tr>\n",
       "  </thead>\n",
       "  <tbody>\n",
       "    <tr>\n",
       "      <th>0</th>\n",
       "      <td>DKI JAKARTA</td>\n",
       "      <td>0.69</td>\n",
       "    </tr>\n",
       "    <tr>\n",
       "      <th>1</th>\n",
       "      <td>KALIMANTAN UTARA</td>\n",
       "      <td>0.42</td>\n",
       "    </tr>\n",
       "    <tr>\n",
       "      <th>2</th>\n",
       "      <td>GORONTALO</td>\n",
       "      <td>0.31</td>\n",
       "    </tr>\n",
       "    <tr>\n",
       "      <th>3</th>\n",
       "      <td>PAPUA BARAT</td>\n",
       "      <td>0.30</td>\n",
       "    </tr>\n",
       "    <tr>\n",
       "      <th>4</th>\n",
       "      <td>SULAWESI SELATAN</td>\n",
       "      <td>0.28</td>\n",
       "    </tr>\n",
       "  </tbody>\n",
       "</table>\n",
       "</div>"
      ],
      "text/plain": [
       "           provinsi  angka_putus_sekolah\n",
       "0       DKI JAKARTA                 0.69\n",
       "1  KALIMANTAN UTARA                 0.42\n",
       "2         GORONTALO                 0.31\n",
       "3       PAPUA BARAT                 0.30\n",
       "4  SULAWESI SELATAN                 0.28"
      ]
     },
     "execution_count": 34,
     "metadata": {},
     "output_type": "execute_result"
    }
   ],
   "source": [
    "aps_sd_provinsi['provinsi'] = aps_sd_provinsi.provinsi.str.upper()\n",
    "aps_sd_provinsi.loc[aps_sd_provinsi['provinsi'] == 'KEPULAUAN RIAU', 'provinsi'] = 'KEP. RIAU'\n",
    "aps_sd_provinsi.head()"
   ]
  },
  {
   "cell_type": "code",
   "execution_count": null,
   "metadata": {},
   "outputs": [
    {
     "data": {
      "text/html": [
       "<div>\n",
       "<style scoped>\n",
       "    .dataframe tbody tr th:only-of-type {\n",
       "        vertical-align: middle;\n",
       "    }\n",
       "\n",
       "    .dataframe tbody tr th {\n",
       "        vertical-align: top;\n",
       "    }\n",
       "\n",
       "    .dataframe thead th {\n",
       "        text-align: right;\n",
       "    }\n",
       "</style>\n",
       "<table border=\"1\" class=\"dataframe\">\n",
       "  <thead>\n",
       "    <tr style=\"text-align: right;\">\n",
       "      <th></th>\n",
       "      <th>provinsi</th>\n",
       "      <th>angka_putus_sekolah</th>\n",
       "      <th>2020</th>\n",
       "    </tr>\n",
       "  </thead>\n",
       "  <tbody>\n",
       "    <tr>\n",
       "      <th>0</th>\n",
       "      <td>DKI JAKARTA</td>\n",
       "      <td>0.69</td>\n",
       "      <td>1.30</td>\n",
       "    </tr>\n",
       "    <tr>\n",
       "      <th>1</th>\n",
       "      <td>KALIMANTAN UTARA</td>\n",
       "      <td>0.42</td>\n",
       "      <td>4.84</td>\n",
       "    </tr>\n",
       "    <tr>\n",
       "      <th>2</th>\n",
       "      <td>GORONTALO</td>\n",
       "      <td>0.31</td>\n",
       "      <td>5.46</td>\n",
       "    </tr>\n",
       "    <tr>\n",
       "      <th>3</th>\n",
       "      <td>PAPUA BARAT</td>\n",
       "      <td>0.30</td>\n",
       "      <td>5.35</td>\n",
       "    </tr>\n",
       "    <tr>\n",
       "      <th>4</th>\n",
       "      <td>SULAWESI SELATAN</td>\n",
       "      <td>0.28</td>\n",
       "      <td>6.16</td>\n",
       "    </tr>\n",
       "    <tr>\n",
       "      <th>5</th>\n",
       "      <td>MALUKU UTARA</td>\n",
       "      <td>0.28</td>\n",
       "      <td>3.80</td>\n",
       "    </tr>\n",
       "    <tr>\n",
       "      <th>6</th>\n",
       "      <td>PAPUA</td>\n",
       "      <td>0.28</td>\n",
       "      <td>3.49</td>\n",
       "    </tr>\n",
       "    <tr>\n",
       "      <th>7</th>\n",
       "      <td>MALUKU</td>\n",
       "      <td>0.24</td>\n",
       "      <td>3.35</td>\n",
       "    </tr>\n",
       "    <tr>\n",
       "      <th>8</th>\n",
       "      <td>KEP. RIAU</td>\n",
       "      <td>0.23</td>\n",
       "      <td>1.19</td>\n",
       "    </tr>\n",
       "    <tr>\n",
       "      <th>9</th>\n",
       "      <td>SULAWESI TENGGARA</td>\n",
       "      <td>0.21</td>\n",
       "      <td>8.05</td>\n",
       "    </tr>\n",
       "  </tbody>\n",
       "</table>\n",
       "</div>"
      ],
      "text/plain": [
       "            provinsi  angka_putus_sekolah  2020\n",
       "0        DKI JAKARTA                 0.69  1.30\n",
       "1   KALIMANTAN UTARA                 0.42  4.84\n",
       "2          GORONTALO                 0.31  5.46\n",
       "3        PAPUA BARAT                 0.30  5.35\n",
       "4   SULAWESI SELATAN                 0.28  6.16\n",
       "5       MALUKU UTARA                 0.28  3.80\n",
       "6              PAPUA                 0.28  3.49\n",
       "7             MALUKU                 0.24  3.35\n",
       "8          KEP. RIAU                 0.23  1.19\n",
       "9  SULAWESI TENGGARA                 0.21  8.05"
      ]
     },
     "execution_count": 35,
     "metadata": {},
     "output_type": "execute_result"
    }
   ],
   "source": [
    "aps_sd_provinsi_x_anak_kerja = pd.merge(aps_sd_provinsi, pers_anak_kerja.T.copy()['2020'], on='provinsi', how='left')\n",
    "aps_sd_provinsi_x_anak_kerja"
   ]
  },
  {
   "cell_type": "code",
   "execution_count": null,
   "metadata": {},
   "outputs": [
    {
     "data": {
      "text/plain": [
       "tahun\n",
       "2018    1.48\n",
       "2019    1.17\n",
       "2020    1.30\n",
       "2021    0.82\n",
       "Freq: A-DEC, Name: DKI JAKARTA, dtype: float64"
      ]
     },
     "execution_count": 36,
     "metadata": {},
     "output_type": "execute_result"
    }
   ],
   "source": [
    "pers_anak_kerja['DKI JAKARTA']"
   ]
  },
  {
   "cell_type": "markdown",
   "metadata": {},
   "source": [
    "## Kekerasan Anak"
   ]
  },
  {
   "cell_type": "code",
   "execution_count": 63,
   "metadata": {},
   "outputs": [
    {
     "data": {
      "text/html": [
       "<div>\n",
       "<style scoped>\n",
       "    .dataframe tbody tr th:only-of-type {\n",
       "        vertical-align: middle;\n",
       "    }\n",
       "\n",
       "    .dataframe tbody tr th {\n",
       "        vertical-align: top;\n",
       "    }\n",
       "\n",
       "    .dataframe thead th {\n",
       "        text-align: right;\n",
       "    }\n",
       "</style>\n",
       "<table border=\"1\" class=\"dataframe\">\n",
       "  <thead>\n",
       "    <tr style=\"text-align: right;\">\n",
       "      <th></th>\n",
       "      <th>KASUS PERLINDUNGAN ANAK</th>\n",
       "      <th>2016</th>\n",
       "      <th>2017</th>\n",
       "      <th>2018</th>\n",
       "      <th>2019</th>\n",
       "      <th>2020</th>\n",
       "    </tr>\n",
       "  </thead>\n",
       "  <tbody>\n",
       "    <tr>\n",
       "      <th>0</th>\n",
       "      <td>Sosial dan Anak Dalam Situasi Darurat</td>\n",
       "      <td>236</td>\n",
       "      <td>286</td>\n",
       "      <td>302</td>\n",
       "      <td>291</td>\n",
       "      <td>128</td>\n",
       "    </tr>\n",
       "    <tr>\n",
       "      <th>1</th>\n",
       "      <td>Anak Terlantar (Anak Penyandang Masalah Keseja...</td>\n",
       "      <td>90</td>\n",
       "      <td>144</td>\n",
       "      <td>152</td>\n",
       "      <td>159</td>\n",
       "      <td>71</td>\n",
       "    </tr>\n",
       "    <tr>\n",
       "      <th>2</th>\n",
       "      <td>Balita Terlantar (Korban)</td>\n",
       "      <td>21</td>\n",
       "      <td>37</td>\n",
       "      <td>35</td>\n",
       "      <td>29</td>\n",
       "      <td>8</td>\n",
       "    </tr>\n",
       "    <tr>\n",
       "      <th>3</th>\n",
       "      <td>Anak Terlantar (Korban)</td>\n",
       "      <td>26</td>\n",
       "      <td>30</td>\n",
       "      <td>28</td>\n",
       "      <td>33</td>\n",
       "      <td>12</td>\n",
       "    </tr>\n",
       "    <tr>\n",
       "      <th>4</th>\n",
       "      <td>Anak Mengemis (Korban)</td>\n",
       "      <td>13</td>\n",
       "      <td>16</td>\n",
       "      <td>17</td>\n",
       "      <td>16</td>\n",
       "      <td>6</td>\n",
       "    </tr>\n",
       "  </tbody>\n",
       "</table>\n",
       "</div>"
      ],
      "text/plain": [
       "                             KASUS PERLINDUNGAN ANAK  2016  2017  2018  2019  \\\n",
       "0              Sosial dan Anak Dalam Situasi Darurat   236   286   302   291   \n",
       "1  Anak Terlantar (Anak Penyandang Masalah Keseja...    90   144   152   159   \n",
       "2                          Balita Terlantar (Korban)    21    37    35    29   \n",
       "3                            Anak Terlantar (Korban)    26    30    28    33   \n",
       "4                             Anak Mengemis (Korban)    13    16    17    16   \n",
       "\n",
       "   2020  \n",
       "0   128  \n",
       "1    71  \n",
       "2     8  \n",
       "3    12  \n",
       "4     6  "
      ]
     },
     "execution_count": 63,
     "metadata": {},
     "output_type": "execute_result"
    }
   ],
   "source": [
    "kekerasan_anak = pd.read_excel('data/child_labor/kekerasan_anak.xlsx')\n",
    "kekerasan_anak.head()"
   ]
  },
  {
   "cell_type": "code",
   "execution_count": 64,
   "metadata": {},
   "outputs": [
    {
     "data": {
      "text/html": [
       "<div>\n",
       "<style scoped>\n",
       "    .dataframe tbody tr th:only-of-type {\n",
       "        vertical-align: middle;\n",
       "    }\n",
       "\n",
       "    .dataframe tbody tr th {\n",
       "        vertical-align: top;\n",
       "    }\n",
       "\n",
       "    .dataframe thead th {\n",
       "        text-align: right;\n",
       "    }\n",
       "</style>\n",
       "<table border=\"1\" class=\"dataframe\">\n",
       "  <thead>\n",
       "    <tr style=\"text-align: right;\">\n",
       "      <th></th>\n",
       "      <th>total</th>\n",
       "    </tr>\n",
       "  </thead>\n",
       "  <tbody>\n",
       "    <tr>\n",
       "      <th>KASUS PERLINDUNGAN ANAK</th>\n",
       "      <td>Sosial dan Anak Dalam Situasi DaruratAnak Terl...</td>\n",
       "    </tr>\n",
       "    <tr>\n",
       "      <th>2016</th>\n",
       "      <td>9255</td>\n",
       "    </tr>\n",
       "    <tr>\n",
       "      <th>2017</th>\n",
       "      <td>9243</td>\n",
       "    </tr>\n",
       "    <tr>\n",
       "      <th>2018</th>\n",
       "      <td>9846</td>\n",
       "    </tr>\n",
       "    <tr>\n",
       "      <th>2019</th>\n",
       "      <td>8829</td>\n",
       "    </tr>\n",
       "  </tbody>\n",
       "</table>\n",
       "</div>"
      ],
      "text/plain": [
       "                                                                     total\n",
       "KASUS PERLINDUNGAN ANAK  Sosial dan Anak Dalam Situasi DaruratAnak Terl...\n",
       "2016                                                                  9255\n",
       "2017                                                                  9243\n",
       "2018                                                                  9846\n",
       "2019                                                                  8829"
      ]
     },
     "execution_count": 64,
     "metadata": {},
     "output_type": "execute_result"
    }
   ],
   "source": [
    "kekerasan_anak = kekerasan_anak.T\n",
    "kekerasan_anak['total'] = kekerasan_anak.sum(axis=1)\n",
    "kekerasan_anak_per_tahun = kekerasan_anak[['total']]\n",
    "kekerasan_anak_per_tahun.head()"
   ]
  },
  {
   "cell_type": "code",
   "execution_count": 65,
   "metadata": {},
   "outputs": [
    {
     "name": "stderr",
     "output_type": "stream",
     "text": [
      "C:\\Users\\edutjie\\AppData\\Local\\Temp\\ipykernel_3584\\3756089474.py:1: SettingWithCopyWarning: \n",
      "A value is trying to be set on a copy of a slice from a DataFrame\n",
      "\n",
      "See the caveats in the documentation: https://pandas.pydata.org/pandas-docs/stable/user_guide/indexing.html#returning-a-view-versus-a-copy\n",
      "  kekerasan_anak_per_tahun.drop('KASUS PERLINDUNGAN ANAK', axis=0, inplace=True)\n"
     ]
    },
    {
     "data": {
      "text/html": [
       "<div>\n",
       "<style scoped>\n",
       "    .dataframe tbody tr th:only-of-type {\n",
       "        vertical-align: middle;\n",
       "    }\n",
       "\n",
       "    .dataframe tbody tr th {\n",
       "        vertical-align: top;\n",
       "    }\n",
       "\n",
       "    .dataframe thead th {\n",
       "        text-align: right;\n",
       "    }\n",
       "</style>\n",
       "<table border=\"1\" class=\"dataframe\">\n",
       "  <thead>\n",
       "    <tr style=\"text-align: right;\">\n",
       "      <th></th>\n",
       "      <th>total</th>\n",
       "    </tr>\n",
       "    <tr>\n",
       "      <th>tahun</th>\n",
       "      <th></th>\n",
       "    </tr>\n",
       "  </thead>\n",
       "  <tbody>\n",
       "    <tr>\n",
       "      <th>2016</th>\n",
       "      <td>9255</td>\n",
       "    </tr>\n",
       "    <tr>\n",
       "      <th>2017</th>\n",
       "      <td>9243</td>\n",
       "    </tr>\n",
       "    <tr>\n",
       "      <th>2018</th>\n",
       "      <td>9846</td>\n",
       "    </tr>\n",
       "    <tr>\n",
       "      <th>2019</th>\n",
       "      <td>8829</td>\n",
       "    </tr>\n",
       "    <tr>\n",
       "      <th>2020</th>\n",
       "      <td>12098</td>\n",
       "    </tr>\n",
       "  </tbody>\n",
       "</table>\n",
       "</div>"
      ],
      "text/plain": [
       "       total\n",
       "tahun       \n",
       "2016    9255\n",
       "2017    9243\n",
       "2018    9846\n",
       "2019    8829\n",
       "2020   12098"
      ]
     },
     "execution_count": 65,
     "metadata": {},
     "output_type": "execute_result"
    }
   ],
   "source": [
    "kekerasan_anak_per_tahun.drop('KASUS PERLINDUNGAN ANAK', axis=0, inplace=True)\n",
    "kekerasan_anak_per_tahun.index.name = 'tahun'\n",
    "kekerasan_anak_per_tahun.head()"
   ]
  },
  {
   "cell_type": "code",
   "execution_count": 66,
   "metadata": {},
   "outputs": [],
   "source": [
    "kekerasan_anak_per_tahun.index = pd.to_datetime(kekerasan_anak_per_tahun.index.astype(str))"
   ]
  },
  {
   "cell_type": "code",
   "execution_count": 72,
   "metadata": {},
   "outputs": [
    {
     "data": {
      "text/plain": [
       "dtype('O')"
      ]
     },
     "execution_count": 72,
     "metadata": {},
     "output_type": "execute_result"
    }
   ],
   "source": [
    "kekerasan_anak_per_tahun.total.dtype"
   ]
  },
  {
   "cell_type": "code",
   "execution_count": 73,
   "metadata": {},
   "outputs": [
    {
     "name": "stderr",
     "output_type": "stream",
     "text": [
      "C:\\Users\\edutjie\\AppData\\Local\\Temp\\ipykernel_3584\\236468896.py:1: SettingWithCopyWarning: \n",
      "A value is trying to be set on a copy of a slice from a DataFrame.\n",
      "Try using .loc[row_indexer,col_indexer] = value instead\n",
      "\n",
      "See the caveats in the documentation: https://pandas.pydata.org/pandas-docs/stable/user_guide/indexing.html#returning-a-view-versus-a-copy\n",
      "  kekerasan_anak_per_tahun[\"total\"] = kekerasan_anak_per_tahun[\"total\"].astype(int)\n"
     ]
    }
   ],
   "source": [
    "kekerasan_anak_per_tahun[\"total\"] = kekerasan_anak_per_tahun[\"total\"].astype(int)"
   ]
  },
  {
   "cell_type": "code",
   "execution_count": 77,
   "metadata": {},
   "outputs": [],
   "source": [
    "kekerasan_anak_per_tahun.to_csv('data/child_labor_cleaned/kekerasan_anak_per_tahun.csv')"
   ]
  },
  {
   "cell_type": "code",
   "execution_count": 76,
   "metadata": {},
   "outputs": [
    {
     "data": {
      "text/plain": [
       "0.9997034982261999"
      ]
     },
     "execution_count": 76,
     "metadata": {},
     "output_type": "execute_result"
    }
   ],
   "source": [
    "pers_anak_kerja[\"INDONESIA\"].corr(kekerasan_anak_per_tahun[\"total\"])"
   ]
  },
  {
   "cell_type": "code",
   "execution_count": null,
   "metadata": {},
   "outputs": [
    {
     "data": {
      "image/png": "[encoded data removed]",
      "text/plain": [
       "<Figure size 576x396 with 1 Axes>"
      ]
     },
     "metadata": {},
     "output_type": "display_data"
    }
   ],
   "source": [
    "kekerasan_anak_per_tahun.plot(marker=\"o\")\n",
    "plt.title('Kekerasan Anak di Indonesia')\n",
    "plt.ylabel('Jumlah Kasus Kekerasan Anak')\n",
    "plt.show()"
   ]
  }
 ],
 "metadata": {
  "kernelspec": {
   "display_name": "Python 3.10.4 ('st')",
   "language": "python",
   "name": "python3"
  },
  "language_info": {
   "codemirror_mode": {
    "name": "ipython",
    "version": 3
   },
   "file_extension": ".py",
   "mimetype": "text/x-python",
   "name": "python",
   "nbconvert_exporter": "python",
   "pygments_lexer": "ipython3",
   "version": "3.10.4"
  },
  "orig_nbformat": 4,
  "vscode": {
   "interpreter": {
    "hash": "8e75688084a1feb54edb0d64230800c24975f0c0f7009f4fe06facde75bff2a4"
   }
  }
 },
 "nbformat": 4,
 "nbformat_minor": 2
}
